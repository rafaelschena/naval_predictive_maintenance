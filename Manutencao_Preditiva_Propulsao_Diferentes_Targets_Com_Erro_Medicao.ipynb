{
 "cells": [
  {
   "cell_type": "markdown",
   "metadata": {},
   "source": [
    "# Manutenção Preditiva (PHM) - Sistema de Propulsão Naval\n",
    "\n",
    "Grupo: Rafael Schena e Gustavo Loguércio\n",
    "\n",
    "Edit: Alteração dos gatilhos de target para os estados de Emergência, Alerta e Normal, adicionando mais 2 cenários para as proporções de estados dos equipamentos: (10% Emerg, 10% Alert, 80% Normal) e (5% Emerg, 5% Alert e 90% Normal) para observação do desempenho dos algoritmos."
   ]
  },
  {
   "cell_type": "markdown",
   "metadata": {},
   "source": [
    "## Metodologia\n",
    "\n",
    "Foi utilizada neste trabalho a metodologia CRISP-DM (CRoss-Industry Standard Process for Data Mining)\n",
    "![crisp-dm](img/crisp-dm.png)\n",
    "\n",
    "Fases:\n",
    "1. Business understanding – What does the business need?\n",
    "2. Data understanding – What data do we have / need? Is it clean?\n",
    "3. Data preparation – How do we organize the data for modeling?\n",
    "4. Modeling – What modeling techniques should we apply?\n",
    "5. Evaluation – Which model best meets the business objectives?\n",
    "6. Deployment – How do stakeholders access the results?\n",
    "\n",
    "(https://www.datascience-pm.com/crisp-dm-2/)"
   ]
  },
  {
   "cell_type": "markdown",
   "metadata": {},
   "source": [
    "## 1 - Compreensão do problema de negócio (Business Understanding)\n",
    "Este trabalho tem como objetivo principal a mineração de padrões em dados de manutenção preditiva (PHM - Predictive Health Monitoring) em um sistema de propulsão naval. O dataset utilizado foi disponibilizado é um dataset simulado em um modelo de um sistema de propulsão naval de uma fragata que utiliza uma turbina a gás como motor. O dataset foi disponibilizado pelos autores (M Altosole, G Benvenuto, M Figari, and U Campora) no repositório da UCI: http://archive.ics.uci.edu/ml/datasets/condition+based+maintenance+of+naval+propulsion+plants"
   ]
  },
  {
   "cell_type": "markdown",
   "metadata": {},
   "source": [
    "Fragata:\n",
    "![fragata](img/frigate.png)"
   ]
  },
  {
   "cell_type": "markdown",
   "metadata": {},
   "source": [
    "Sistema de propulsão:\n",
    "![propulsao](img/propulsion.png)\n",
    "https://navalpost.com/propulsion-systems-navies-gas-diesel-electric/\n",
    "\n",
    "Turbina a Gás (Termo mais correto: motor a reação):\n",
    "![turbina](img/gas_turbine.png)\n",
    "https://www.geaviation.com/sites/default/files/ge-marine-gas-turbines-for-frigates-2018-march.pdf\n",
    "\n",
    "![mecanismo](img/turbine_mechanism.gif)"
   ]
  },
  {
   "cell_type": "markdown",
   "metadata": {},
   "source": [
    "## Definição do problema de negócio (!!!)\n",
    "O dataset não define o que caracteriza ou não uma falha no sistema de propulsão da fragata, apenas apresenta os índices de degradação dos estágios de compressão e da turbina. **Níveis de alerta de degradação serão definidos com base na distribuição dos índices de degradação do compressor (kMc) e da turbina (kMt).** Antes disso, será necessária uma melhor compreensão dos dados.\n",
    "\n",
    "Dicionário de dados:\n",
    "- 1 - Lever position (lp) [ ]\n",
    "- 2 - Ship speed (v) [knots]\n",
    "- 3 - Gas Turbine shaft torque (GTT) [kN m]\n",
    "- 4 - Gas Turbine rate of revolutions (GTn) [rpm]\n",
    "- 5 - Gas Generator rate of revolutions (GGn) [rpm]\n",
    "- 6 - Starboard Propeller Torque (Ts) [kN]\n",
    "- 7 - Port Propeller Torque (Tp) [kN]\n",
    "- 8 - HP Turbine exit temperature (T48) [C]\n",
    "- 9 - GT Compressor inlet air temperature (T1) [C]\n",
    "- 10 - GT Compressor outlet air temperature (T2) [C]\n",
    "- 11 - HP Turbine exit pressure (P48) [bar]\n",
    "- 12 - GT Compressor inlet air pressure (P1) [bar]\n",
    "- 13 - GT Compressor outlet air pressure (P2) [bar]\n",
    "- 14 - Gas Turbine exhaust gas pressure (Pexh) [bar]\n",
    "- 15 - Turbine Injecton Control (TIC) [%]\n",
    "- 16 - Fuel flow (mf) [kg/s]\n",
    "- 17 - GT Compressor decay state coefficient (kMc).\n",
    "- 18 - GT Turbine decay state coefficient (kMt). "
   ]
  },
  {
   "cell_type": "markdown",
   "metadata": {},
   "source": [
    "## 2 - Compreensão dos dados (Data Understanding)"
   ]
  },
  {
   "cell_type": "code",
   "execution_count": 1,
   "metadata": {},
   "outputs": [],
   "source": [
    "import pandas as pd\n",
    "import numpy as np"
   ]
  },
  {
   "cell_type": "code",
   "execution_count": 2,
   "metadata": {},
   "outputs": [],
   "source": [
    "features = [\n",
    "    'lp',\n",
    "    'v',\n",
    "    'GTT',\n",
    "    'GTn',\n",
    "    'GGn',\n",
    "    'Ts',\n",
    "    'Tp',\n",
    "    'T48',\n",
    "    'T1',\n",
    "    'T2',\n",
    "    'P48',\n",
    "    'P1',\n",
    "    'P2',\n",
    "    'Pexh',\n",
    "    'TIC',\n",
    "    'mf',\n",
    "    'kMc',\n",
    "    'kMt'\n",
    "]"
   ]
  },
  {
   "cell_type": "code",
   "execution_count": 3,
   "metadata": {
    "scrolled": false
   },
   "outputs": [],
   "source": [
    "df = pd.read_csv('./data/data.txt', sep='   ', names=features, engine='python')"
   ]
  },
  {
   "cell_type": "code",
   "execution_count": 4,
   "metadata": {},
   "outputs": [
    {
     "data": {
      "text/html": [
       "<div>\n",
       "<style scoped>\n",
       "    .dataframe tbody tr th:only-of-type {\n",
       "        vertical-align: middle;\n",
       "    }\n",
       "\n",
       "    .dataframe tbody tr th {\n",
       "        vertical-align: top;\n",
       "    }\n",
       "\n",
       "    .dataframe thead th {\n",
       "        text-align: right;\n",
       "    }\n",
       "</style>\n",
       "<table border=\"1\" class=\"dataframe\">\n",
       "  <thead>\n",
       "    <tr style=\"text-align: right;\">\n",
       "      <th></th>\n",
       "      <th>lp</th>\n",
       "      <th>v</th>\n",
       "      <th>GTT</th>\n",
       "      <th>GTn</th>\n",
       "      <th>GGn</th>\n",
       "      <th>Ts</th>\n",
       "      <th>Tp</th>\n",
       "      <th>T48</th>\n",
       "      <th>T1</th>\n",
       "      <th>T2</th>\n",
       "      <th>P48</th>\n",
       "      <th>P1</th>\n",
       "      <th>P2</th>\n",
       "      <th>Pexh</th>\n",
       "      <th>TIC</th>\n",
       "      <th>mf</th>\n",
       "      <th>kMc</th>\n",
       "      <th>kMt</th>\n",
       "    </tr>\n",
       "  </thead>\n",
       "  <tbody>\n",
       "    <tr>\n",
       "      <th>0</th>\n",
       "      <td>1.138</td>\n",
       "      <td>3.0</td>\n",
       "      <td>289.964</td>\n",
       "      <td>1349.489</td>\n",
       "      <td>6677.380</td>\n",
       "      <td>7.584</td>\n",
       "      <td>7.584</td>\n",
       "      <td>464.006</td>\n",
       "      <td>288.0</td>\n",
       "      <td>550.563</td>\n",
       "      <td>1.096</td>\n",
       "      <td>0.998</td>\n",
       "      <td>5.947</td>\n",
       "      <td>1.019</td>\n",
       "      <td>7.137</td>\n",
       "      <td>0.082</td>\n",
       "      <td>0.95</td>\n",
       "      <td>0.975</td>\n",
       "    </tr>\n",
       "    <tr>\n",
       "      <th>1</th>\n",
       "      <td>2.088</td>\n",
       "      <td>6.0</td>\n",
       "      <td>6960.180</td>\n",
       "      <td>1376.166</td>\n",
       "      <td>6828.469</td>\n",
       "      <td>28.204</td>\n",
       "      <td>28.204</td>\n",
       "      <td>635.401</td>\n",
       "      <td>288.0</td>\n",
       "      <td>581.658</td>\n",
       "      <td>1.331</td>\n",
       "      <td>0.998</td>\n",
       "      <td>7.282</td>\n",
       "      <td>1.019</td>\n",
       "      <td>10.655</td>\n",
       "      <td>0.287</td>\n",
       "      <td>0.95</td>\n",
       "      <td>0.975</td>\n",
       "    </tr>\n",
       "    <tr>\n",
       "      <th>2</th>\n",
       "      <td>3.144</td>\n",
       "      <td>9.0</td>\n",
       "      <td>8379.229</td>\n",
       "      <td>1386.757</td>\n",
       "      <td>7111.811</td>\n",
       "      <td>60.358</td>\n",
       "      <td>60.358</td>\n",
       "      <td>606.002</td>\n",
       "      <td>288.0</td>\n",
       "      <td>587.587</td>\n",
       "      <td>1.389</td>\n",
       "      <td>0.998</td>\n",
       "      <td>7.574</td>\n",
       "      <td>1.020</td>\n",
       "      <td>13.086</td>\n",
       "      <td>0.259</td>\n",
       "      <td>0.95</td>\n",
       "      <td>0.975</td>\n",
       "    </tr>\n",
       "    <tr>\n",
       "      <th>3</th>\n",
       "      <td>4.161</td>\n",
       "      <td>12.0</td>\n",
       "      <td>14724.395</td>\n",
       "      <td>1547.465</td>\n",
       "      <td>7792.630</td>\n",
       "      <td>113.774</td>\n",
       "      <td>113.774</td>\n",
       "      <td>661.471</td>\n",
       "      <td>288.0</td>\n",
       "      <td>613.851</td>\n",
       "      <td>1.658</td>\n",
       "      <td>0.998</td>\n",
       "      <td>9.007</td>\n",
       "      <td>1.022</td>\n",
       "      <td>18.109</td>\n",
       "      <td>0.358</td>\n",
       "      <td>0.95</td>\n",
       "      <td>0.975</td>\n",
       "    </tr>\n",
       "    <tr>\n",
       "      <th>4</th>\n",
       "      <td>5.140</td>\n",
       "      <td>15.0</td>\n",
       "      <td>21636.432</td>\n",
       "      <td>1924.313</td>\n",
       "      <td>8494.777</td>\n",
       "      <td>175.306</td>\n",
       "      <td>175.306</td>\n",
       "      <td>731.494</td>\n",
       "      <td>288.0</td>\n",
       "      <td>645.642</td>\n",
       "      <td>2.078</td>\n",
       "      <td>0.998</td>\n",
       "      <td>11.197</td>\n",
       "      <td>1.026</td>\n",
       "      <td>26.373</td>\n",
       "      <td>0.522</td>\n",
       "      <td>0.95</td>\n",
       "      <td>0.975</td>\n",
       "    </tr>\n",
       "  </tbody>\n",
       "</table>\n",
       "</div>"
      ],
      "text/plain": [
       "      lp     v        GTT       GTn       GGn       Ts       Tp      T48  \\\n",
       "0  1.138   3.0    289.964  1349.489  6677.380    7.584    7.584  464.006   \n",
       "1  2.088   6.0   6960.180  1376.166  6828.469   28.204   28.204  635.401   \n",
       "2  3.144   9.0   8379.229  1386.757  7111.811   60.358   60.358  606.002   \n",
       "3  4.161  12.0  14724.395  1547.465  7792.630  113.774  113.774  661.471   \n",
       "4  5.140  15.0  21636.432  1924.313  8494.777  175.306  175.306  731.494   \n",
       "\n",
       "      T1       T2    P48     P1      P2   Pexh     TIC     mf   kMc    kMt  \n",
       "0  288.0  550.563  1.096  0.998   5.947  1.019   7.137  0.082  0.95  0.975  \n",
       "1  288.0  581.658  1.331  0.998   7.282  1.019  10.655  0.287  0.95  0.975  \n",
       "2  288.0  587.587  1.389  0.998   7.574  1.020  13.086  0.259  0.95  0.975  \n",
       "3  288.0  613.851  1.658  0.998   9.007  1.022  18.109  0.358  0.95  0.975  \n",
       "4  288.0  645.642  2.078  0.998  11.197  1.026  26.373  0.522  0.95  0.975  "
      ]
     },
     "execution_count": 4,
     "metadata": {},
     "output_type": "execute_result"
    }
   ],
   "source": [
    "df.head()"
   ]
  },
  {
   "cell_type": "code",
   "execution_count": 5,
   "metadata": {},
   "outputs": [
    {
     "data": {
      "text/plain": [
       "(11934, 18)"
      ]
     },
     "execution_count": 5,
     "metadata": {},
     "output_type": "execute_result"
    }
   ],
   "source": [
    "df.shape"
   ]
  },
  {
   "cell_type": "markdown",
   "metadata": {},
   "source": [
    "### Verificação valores faltantes e tipos de dados"
   ]
  },
  {
   "cell_type": "code",
   "execution_count": 6,
   "metadata": {
    "scrolled": false
   },
   "outputs": [
    {
     "name": "stdout",
     "output_type": "stream",
     "text": [
      "<class 'pandas.core.frame.DataFrame'>\n",
      "RangeIndex: 11934 entries, 0 to 11933\n",
      "Data columns (total 18 columns):\n",
      " #   Column  Non-Null Count  Dtype  \n",
      "---  ------  --------------  -----  \n",
      " 0   lp      11934 non-null  float64\n",
      " 1   v       11934 non-null  float64\n",
      " 2   GTT     11934 non-null  float64\n",
      " 3   GTn     11934 non-null  float64\n",
      " 4   GGn     11934 non-null  float64\n",
      " 5   Ts      11934 non-null  float64\n",
      " 6   Tp      11934 non-null  float64\n",
      " 7   T48     11934 non-null  float64\n",
      " 8   T1      11934 non-null  float64\n",
      " 9   T2      11934 non-null  float64\n",
      " 10  P48     11934 non-null  float64\n",
      " 11  P1      11934 non-null  float64\n",
      " 12  P2      11934 non-null  float64\n",
      " 13  Pexh    11934 non-null  float64\n",
      " 14  TIC     11934 non-null  float64\n",
      " 15  mf      11934 non-null  float64\n",
      " 16  kMc     11934 non-null  float64\n",
      " 17  kMt     11934 non-null  float64\n",
      "dtypes: float64(18)\n",
      "memory usage: 1.6 MB\n"
     ]
    }
   ],
   "source": [
    "# Não há valores faltantes, todas as variáveis são numéricas do tipo float64\n",
    "df.info()"
   ]
  },
  {
   "cell_type": "markdown",
   "metadata": {},
   "source": [
    "### Estatísticas das features numéricas"
   ]
  },
  {
   "cell_type": "code",
   "execution_count": 7,
   "metadata": {
    "scrolled": true
   },
   "outputs": [
    {
     "data": {
      "text/html": [
       "<div>\n",
       "<style scoped>\n",
       "    .dataframe tbody tr th:only-of-type {\n",
       "        vertical-align: middle;\n",
       "    }\n",
       "\n",
       "    .dataframe tbody tr th {\n",
       "        vertical-align: top;\n",
       "    }\n",
       "\n",
       "    .dataframe thead th {\n",
       "        text-align: right;\n",
       "    }\n",
       "</style>\n",
       "<table border=\"1\" class=\"dataframe\">\n",
       "  <thead>\n",
       "    <tr style=\"text-align: right;\">\n",
       "      <th></th>\n",
       "      <th>lp</th>\n",
       "      <th>v</th>\n",
       "      <th>GTT</th>\n",
       "      <th>GTn</th>\n",
       "      <th>GGn</th>\n",
       "      <th>Ts</th>\n",
       "      <th>Tp</th>\n",
       "      <th>T48</th>\n",
       "      <th>T1</th>\n",
       "      <th>T2</th>\n",
       "      <th>P48</th>\n",
       "      <th>P1</th>\n",
       "      <th>P2</th>\n",
       "      <th>Pexh</th>\n",
       "      <th>TIC</th>\n",
       "      <th>mf</th>\n",
       "      <th>kMc</th>\n",
       "      <th>kMt</th>\n",
       "    </tr>\n",
       "  </thead>\n",
       "  <tbody>\n",
       "    <tr>\n",
       "      <th>count</th>\n",
       "      <td>11934.000000</td>\n",
       "      <td>11934.000000</td>\n",
       "      <td>11934.000000</td>\n",
       "      <td>11934.000000</td>\n",
       "      <td>11934.000000</td>\n",
       "      <td>11934.000000</td>\n",
       "      <td>11934.000000</td>\n",
       "      <td>11934.000000</td>\n",
       "      <td>11934.0</td>\n",
       "      <td>11934.000000</td>\n",
       "      <td>11934.000000</td>\n",
       "      <td>1.193400e+04</td>\n",
       "      <td>11934.000000</td>\n",
       "      <td>11934.000000</td>\n",
       "      <td>11934.000000</td>\n",
       "      <td>11934.000000</td>\n",
       "      <td>11934.00000</td>\n",
       "      <td>11934.0000</td>\n",
       "    </tr>\n",
       "    <tr>\n",
       "      <th>mean</th>\n",
       "      <td>5.166667</td>\n",
       "      <td>15.000000</td>\n",
       "      <td>27247.498685</td>\n",
       "      <td>2136.289256</td>\n",
       "      <td>8200.947312</td>\n",
       "      <td>227.335768</td>\n",
       "      <td>227.335768</td>\n",
       "      <td>735.495446</td>\n",
       "      <td>288.0</td>\n",
       "      <td>646.215331</td>\n",
       "      <td>2.352963</td>\n",
       "      <td>9.980000e-01</td>\n",
       "      <td>12.297123</td>\n",
       "      <td>1.029474</td>\n",
       "      <td>33.641261</td>\n",
       "      <td>0.662440</td>\n",
       "      <td>0.97500</td>\n",
       "      <td>0.9875</td>\n",
       "    </tr>\n",
       "    <tr>\n",
       "      <th>std</th>\n",
       "      <td>2.626388</td>\n",
       "      <td>7.746291</td>\n",
       "      <td>22148.613155</td>\n",
       "      <td>774.083881</td>\n",
       "      <td>1091.315507</td>\n",
       "      <td>200.495889</td>\n",
       "      <td>200.495889</td>\n",
       "      <td>173.680552</td>\n",
       "      <td>0.0</td>\n",
       "      <td>72.675882</td>\n",
       "      <td>1.084770</td>\n",
       "      <td>2.533635e-13</td>\n",
       "      <td>5.337448</td>\n",
       "      <td>0.010390</td>\n",
       "      <td>25.841363</td>\n",
       "      <td>0.507132</td>\n",
       "      <td>0.01472</td>\n",
       "      <td>0.0075</td>\n",
       "    </tr>\n",
       "    <tr>\n",
       "      <th>min</th>\n",
       "      <td>1.138000</td>\n",
       "      <td>3.000000</td>\n",
       "      <td>253.547000</td>\n",
       "      <td>1307.675000</td>\n",
       "      <td>6589.002000</td>\n",
       "      <td>5.304000</td>\n",
       "      <td>5.304000</td>\n",
       "      <td>442.364000</td>\n",
       "      <td>288.0</td>\n",
       "      <td>540.442000</td>\n",
       "      <td>1.093000</td>\n",
       "      <td>9.980000e-01</td>\n",
       "      <td>5.828000</td>\n",
       "      <td>1.019000</td>\n",
       "      <td>0.000000</td>\n",
       "      <td>0.068000</td>\n",
       "      <td>0.95000</td>\n",
       "      <td>0.9750</td>\n",
       "    </tr>\n",
       "    <tr>\n",
       "      <th>25%</th>\n",
       "      <td>3.144000</td>\n",
       "      <td>9.000000</td>\n",
       "      <td>8375.883750</td>\n",
       "      <td>1386.758000</td>\n",
       "      <td>7058.324000</td>\n",
       "      <td>60.317000</td>\n",
       "      <td>60.317000</td>\n",
       "      <td>589.872750</td>\n",
       "      <td>288.0</td>\n",
       "      <td>578.092250</td>\n",
       "      <td>1.389000</td>\n",
       "      <td>9.980000e-01</td>\n",
       "      <td>7.447250</td>\n",
       "      <td>1.020000</td>\n",
       "      <td>13.677500</td>\n",
       "      <td>0.246000</td>\n",
       "      <td>0.96200</td>\n",
       "      <td>0.9810</td>\n",
       "    </tr>\n",
       "    <tr>\n",
       "      <th>50%</th>\n",
       "      <td>5.140000</td>\n",
       "      <td>15.000000</td>\n",
       "      <td>21630.659000</td>\n",
       "      <td>1924.326000</td>\n",
       "      <td>8482.081500</td>\n",
       "      <td>175.268000</td>\n",
       "      <td>175.268000</td>\n",
       "      <td>706.038000</td>\n",
       "      <td>288.0</td>\n",
       "      <td>637.141500</td>\n",
       "      <td>2.083000</td>\n",
       "      <td>9.980000e-01</td>\n",
       "      <td>11.092000</td>\n",
       "      <td>1.026000</td>\n",
       "      <td>25.276500</td>\n",
       "      <td>0.496000</td>\n",
       "      <td>0.97500</td>\n",
       "      <td>0.9875</td>\n",
       "    </tr>\n",
       "    <tr>\n",
       "      <th>75%</th>\n",
       "      <td>7.148000</td>\n",
       "      <td>21.000000</td>\n",
       "      <td>39001.426750</td>\n",
       "      <td>2678.079000</td>\n",
       "      <td>9132.606000</td>\n",
       "      <td>332.364750</td>\n",
       "      <td>332.364750</td>\n",
       "      <td>834.066250</td>\n",
       "      <td>288.0</td>\n",
       "      <td>693.924500</td>\n",
       "      <td>2.981000</td>\n",
       "      <td>9.980000e-01</td>\n",
       "      <td>15.658000</td>\n",
       "      <td>1.036000</td>\n",
       "      <td>44.552500</td>\n",
       "      <td>0.882000</td>\n",
       "      <td>0.98800</td>\n",
       "      <td>0.9940</td>\n",
       "    </tr>\n",
       "    <tr>\n",
       "      <th>max</th>\n",
       "      <td>9.300000</td>\n",
       "      <td>27.000000</td>\n",
       "      <td>72784.872000</td>\n",
       "      <td>3560.741000</td>\n",
       "      <td>9797.103000</td>\n",
       "      <td>645.249000</td>\n",
       "      <td>645.249000</td>\n",
       "      <td>1115.797000</td>\n",
       "      <td>288.0</td>\n",
       "      <td>789.094000</td>\n",
       "      <td>4.560000</td>\n",
       "      <td>9.980000e-01</td>\n",
       "      <td>23.140000</td>\n",
       "      <td>1.052000</td>\n",
       "      <td>92.556000</td>\n",
       "      <td>1.832000</td>\n",
       "      <td>1.00000</td>\n",
       "      <td>1.0000</td>\n",
       "    </tr>\n",
       "  </tbody>\n",
       "</table>\n",
       "</div>"
      ],
      "text/plain": [
       "                 lp             v           GTT           GTn           GGn  \\\n",
       "count  11934.000000  11934.000000  11934.000000  11934.000000  11934.000000   \n",
       "mean       5.166667     15.000000  27247.498685   2136.289256   8200.947312   \n",
       "std        2.626388      7.746291  22148.613155    774.083881   1091.315507   \n",
       "min        1.138000      3.000000    253.547000   1307.675000   6589.002000   \n",
       "25%        3.144000      9.000000   8375.883750   1386.758000   7058.324000   \n",
       "50%        5.140000     15.000000  21630.659000   1924.326000   8482.081500   \n",
       "75%        7.148000     21.000000  39001.426750   2678.079000   9132.606000   \n",
       "max        9.300000     27.000000  72784.872000   3560.741000   9797.103000   \n",
       "\n",
       "                 Ts            Tp           T48       T1            T2  \\\n",
       "count  11934.000000  11934.000000  11934.000000  11934.0  11934.000000   \n",
       "mean     227.335768    227.335768    735.495446    288.0    646.215331   \n",
       "std      200.495889    200.495889    173.680552      0.0     72.675882   \n",
       "min        5.304000      5.304000    442.364000    288.0    540.442000   \n",
       "25%       60.317000     60.317000    589.872750    288.0    578.092250   \n",
       "50%      175.268000    175.268000    706.038000    288.0    637.141500   \n",
       "75%      332.364750    332.364750    834.066250    288.0    693.924500   \n",
       "max      645.249000    645.249000   1115.797000    288.0    789.094000   \n",
       "\n",
       "                P48            P1            P2          Pexh           TIC  \\\n",
       "count  11934.000000  1.193400e+04  11934.000000  11934.000000  11934.000000   \n",
       "mean       2.352963  9.980000e-01     12.297123      1.029474     33.641261   \n",
       "std        1.084770  2.533635e-13      5.337448      0.010390     25.841363   \n",
       "min        1.093000  9.980000e-01      5.828000      1.019000      0.000000   \n",
       "25%        1.389000  9.980000e-01      7.447250      1.020000     13.677500   \n",
       "50%        2.083000  9.980000e-01     11.092000      1.026000     25.276500   \n",
       "75%        2.981000  9.980000e-01     15.658000      1.036000     44.552500   \n",
       "max        4.560000  9.980000e-01     23.140000      1.052000     92.556000   \n",
       "\n",
       "                 mf          kMc         kMt  \n",
       "count  11934.000000  11934.00000  11934.0000  \n",
       "mean       0.662440      0.97500      0.9875  \n",
       "std        0.507132      0.01472      0.0075  \n",
       "min        0.068000      0.95000      0.9750  \n",
       "25%        0.246000      0.96200      0.9810  \n",
       "50%        0.496000      0.97500      0.9875  \n",
       "75%        0.882000      0.98800      0.9940  \n",
       "max        1.832000      1.00000      1.0000  "
      ]
     },
     "execution_count": 7,
     "metadata": {},
     "output_type": "execute_result"
    }
   ],
   "source": [
    "df.describe()"
   ]
  },
  {
   "cell_type": "code",
   "execution_count": 8,
   "metadata": {},
   "outputs": [
    {
     "name": "stdout",
     "output_type": "stream",
     "text": [
      "Valores únicos de lp: 9\n",
      "Valores únicos de v: 9\n",
      "Valores únicos de GTT: 11430\n",
      "Valores únicos de GTn: 3888\n",
      "Valores únicos de GGn: 11834\n",
      "Valores únicos de Ts: 4286\n",
      "Valores únicos de Tp: 4286\n",
      "Valores únicos de T48: 11772\n",
      "Valores únicos de T1: 1\n",
      "Valores únicos de T2: 11506\n",
      "Valores únicos de P48: 524\n",
      "Valores únicos de P1: 1\n",
      "Valores únicos de P2: 4209\n",
      "Valores únicos de Pexh: 19\n",
      "Valores únicos de TIC: 8496\n",
      "Valores únicos de mf: 696\n",
      "Valores únicos de kMc: 51\n",
      "Valores únicos de kMt: 26\n"
     ]
    }
   ],
   "source": [
    "for col in df.columns:\n",
    "    print(f'Valores únicos de {col}: {len(df[col].unique())}')"
   ]
  },
  {
   "cell_type": "markdown",
   "metadata": {},
   "source": [
    "### Verificando a presença de outliers nos dados"
   ]
  },
  {
   "cell_type": "code",
   "execution_count": 9,
   "metadata": {},
   "outputs": [],
   "source": [
    "import matplotlib.pyplot as plt"
   ]
  },
  {
   "cell_type": "code",
   "execution_count": 10,
   "metadata": {},
   "outputs": [
    {
     "data": {
      "image/png": "[encoded data removed]",
      "text/plain": [
       "<Figure size 1440x1440 with 18 Axes>"
      ]
     },
     "metadata": {
      "needs_background": "light"
     },
     "output_type": "display_data"
    }
   ],
   "source": [
    "fig, ax_matrix = plt.subplots(6, 3, figsize=(20, 20));\n",
    "\n",
    "# Atribuir um subgráfico para cada feature\n",
    "mapeamento = {}\n",
    "for (i, f) in enumerate(features):\n",
    "    mapeamento[f] = ax_matrix[i//3][i%3]\n",
    "\n",
    "for feat in features:\n",
    "    mapeamento[feat].set_title(f'Boxplot {feat}')\n",
    "    mapeamento[feat].boxplot(df[feat])\n",
    "    \n",
    "plt.show()"
   ]
  },
  {
   "cell_type": "markdown",
   "metadata": {},
   "source": [
    "### Constatações:\n",
    "- As features T1 e P1 não apresentam variabilidade e podem ser eliminadas do dataset, porque não contribuem para a previsibilidade das variáveis target;\n",
    "- A feature TIC apresenta outliers que merecem ser investigados mais a fundo;"
   ]
  },
  {
   "cell_type": "markdown",
   "metadata": {},
   "source": [
    "## Verificação da distribuição dos dados"
   ]
  },
  {
   "cell_type": "code",
   "execution_count": 11,
   "metadata": {},
   "outputs": [
    {
     "data": {
      "image/png": "[encoded data removed]",
      "text/plain": [
       "<Figure size 1440x1440 with 18 Axes>"
      ]
     },
     "metadata": {
      "needs_background": "light"
     },
     "output_type": "display_data"
    }
   ],
   "source": [
    "fig, ax_matrix = plt.subplots(6, 3, figsize=(20, 20));\n",
    "\n",
    "# Atribuir um subgráfico para cada feature\n",
    "mapeamento = {}\n",
    "for (i, f) in enumerate(features):\n",
    "    mapeamento[f] = ax_matrix[i//3][i%3]\n",
    "\n",
    "for feat in features:\n",
    "    mapeamento[feat].set_title(f'Histograma {feat}')\n",
    "    mapeamento[feat].hist(df[feat], bins=30)\n",
    "    \n",
    "plt.show()"
   ]
  },
  {
   "cell_type": "code",
   "execution_count": 12,
   "metadata": {
    "scrolled": false
   },
   "outputs": [
    {
     "data": {
      "image/png": "[encoded data removed]",
      "text/plain": [
       "<Figure size 1440x1440 with 18 Axes>"
      ]
     },
     "metadata": {
      "needs_background": "light"
     },
     "output_type": "display_data"
    }
   ],
   "source": [
    "fig, ax_matrix = plt.subplots(6, 3, figsize=(20, 20));\n",
    "\n",
    "# Atribuir um subgráfico para cada feature\n",
    "mapeamento = {}\n",
    "for (i, f) in enumerate(features):\n",
    "    mapeamento[f] = ax_matrix[i//3][i%3]\n",
    "\n",
    "for feat in features:\n",
    "    mapeamento[feat].set_title(f'Histograma {feat}')\n",
    "    mapeamento[feat].hist(df[feat], bins=100)\n",
    "    \n",
    "plt.show()"
   ]
  },
  {
   "cell_type": "code",
   "execution_count": 26,
   "metadata": {},
   "outputs": [],
   "source": [
    "# Função para inserção de erro\n",
    "# Desvio padrão default é 1% do valor apontado.\n",
    "from random import gauss\n",
    "def insere_erro(valor, erro=0.01):\n",
    "    valor_com_erro = gauss(valor, erro*valor)\n",
    "    return valor_com_erro"
   ]
  },
  {
   "cell_type": "code",
   "execution_count": 28,
   "metadata": {},
   "outputs": [
    {
     "data": {
      "text/plain": [
       "0.97351073595073"
      ]
     },
     "execution_count": 28,
     "metadata": {},
     "output_type": "execute_result"
    }
   ],
   "source": [
    "insere_erro(1, 0.05)"
   ]
  },
  {
   "cell_type": "code",
   "execution_count": null,
   "metadata": {},
   "outputs": [],
   "source": [
    "# Aplicar função erro ao data"
   ]
  },
  {
   "cell_type": "markdown",
   "metadata": {},
   "source": [
    "### Constatações\n",
    "- Os dados não se apresentam na forma de séries temporais, uma vez que não têm associado um timestamp e nenhuma indicação de que estão em uma sequência no tempo;\n",
    "- Na distribuição estatística dos dados (histogramas) podem ser verificados muitos gaps, indicando que existem faixas de valores que não constam no conjunto de dados, apesar de se tratar de um dataset composto somente por variáveis contínuas. Tal característica da distribuição dos dados permite que se efetue uma discretização destas grandezas com uma menor perda de informação (erro de quantização). Isto sugere que pode ser interessante a criação de novas features a partir da discretização das features originais.\n",
    "- Faixas de variação muito diferentes entre as features;\n",
    "- Os outliers da feature TIC representam os valores acima de 80% da capacidade de injeção de combustível na turbina. Representam os casos em que a fragata demandou uma aceleração maior e somam cerca de 1200 observações no dataset (aproximadamente 10% das observações). Decidiu-se por manter estes valores por representarem situações de operação normal do equipamento."
   ]
  },
  {
   "cell_type": "markdown",
   "metadata": {},
   "source": [
    "## (!!!) Definição do problema de negócio com base nos dados\n",
    "Para os targets kMc e kMt fica **arbitrariamente** definido:\n",
    "\n",
    "Cenário 0:\n",
    "- **Emergência**: faixa de 33% piores valores possíveis para o range observado;\n",
    "- **Alerta**: faixa entre 33% e 66% piores valores possíveis para o range observado;\n",
    "- **Normal**: faixa de 33% melhores valores possíveis para o range observado.\n",
    "\n",
    "Cenário 1:\n",
    "- **Emergência**: faixa de 10% piores valores possíveis para o range observado;\n",
    "- **Alerta**: faixa entre 10% e 20% piores valores possíveis para o range observado;\n",
    "- **Normal**: faixa de 80% melhores valores possíveis para o range observado.\n",
    "\n",
    "Cenário 2:\n",
    "- **Emergência**: faixa de 5% piores valores possíveis para o range observado;\n",
    "- **Alerta**: faixa entre 5% e 10% piores valores possíveis para o range observado;\n",
    "- **Normal**: faixa de 90% melhores valores possíveis para o range observado."
   ]
  },
  {
   "cell_type": "code",
   "execution_count": null,
   "metadata": {},
   "outputs": [],
   "source": [
    "range_kMc = df['kMc'].max() - df['kMc'].min()"
   ]
  },
  {
   "cell_type": "code",
   "execution_count": null,
   "metadata": {},
   "outputs": [],
   "source": [
    "# Proporções percentuais para os cenários 0, 1 e 2, respectivamente, como tuplas na lista proporções\n",
    "cenarios = [(0.33, 0.66),\n",
    "             (0.1, 0.2),\n",
    "             (0.05, 0.1)]"
   ]
  },
  {
   "cell_type": "code",
   "execution_count": null,
   "metadata": {},
   "outputs": [],
   "source": [
    "# Lista com os valores limites de kMc para alerta e emergência para os três cenários\n",
    "lim_comp = []\n",
    "\n",
    "for c in cenarios:\n",
    "    lim = {}\n",
    "    lim['emerg'] = df['kMc'].min() + c[0]*range_kMc\n",
    "    lim['alert'] = df['kMc'].min() + c[1]*range_kMc\n",
    "    lim_comp.append(lim)"
   ]
  },
  {
   "cell_type": "code",
   "execution_count": null,
   "metadata": {},
   "outputs": [],
   "source": [
    "for k in range(len(lim_comp)):\n",
    "    print(f'Níveis de emergência e alerta de kMc para o cenário {k}: {lim_comp[k]}')"
   ]
  },
  {
   "cell_type": "code",
   "execution_count": null,
   "metadata": {},
   "outputs": [],
   "source": [
    "# Lista com os valores limites de kMc para alerta e emergência para os três cenários\n",
    "range_kMt = df['kMt'].max() - df['kMt'].min()\n",
    "lim_turb = []\n",
    "\n",
    "for c in cenarios:\n",
    "    lim = {}\n",
    "    lim['emerg'] = df['kMt'].min() + c[0]*range_kMt\n",
    "    lim['alert'] = df['kMt'].min() + c[1]*range_kMt\n",
    "    lim_turb.append(lim)"
   ]
  },
  {
   "cell_type": "code",
   "execution_count": null,
   "metadata": {},
   "outputs": [],
   "source": [
    "for k in range(len(lim_turb)):\n",
    "    print(f'Níveis de emergência e alerta de kMt para o cenário {k}: {lim_turb[k]}')"
   ]
  },
  {
   "cell_type": "code",
   "execution_count": null,
   "metadata": {},
   "outputs": [],
   "source": [
    "for k in range(len(cenarios)):\n",
    "    fig, ax = plt.subplots(1, 2, figsize=(16, 4))\n",
    "    fig.suptitle(f'Cenário {k}')\n",
    "    \n",
    "    ax[0].set_title(f'Histograma kMc')\n",
    "    ax[0].axvline(lim_comp[k]['alert'], color='orange', lw=2, alpha=1)\n",
    "    ax[0].axvline(lim_comp[k]['emerg'], color='red', lw=2, alpha=1)\n",
    "    ax[0].hist(df['kMc'], bins=30, alpha = 0.3);\n",
    "\n",
    "    ax[1].set_title(f'Histograma kMt')\n",
    "    ax[1].axvline(lim_turb[k]['alert'], color='orange', lw=2, alpha=1)\n",
    "    ax[1].axvline(lim_turb[k]['emerg'], color='red', lw=2, alpha=1)\n",
    "    ax[1].hist(df['kMt'], bins=30, alpha = 0.3);"
   ]
  },
  {
   "cell_type": "markdown",
   "metadata": {},
   "source": [
    "### Exclusão das features que não acrescentam informação ao dataset:"
   ]
  },
  {
   "cell_type": "code",
   "execution_count": null,
   "metadata": {
    "scrolled": false
   },
   "outputs": [],
   "source": [
    "# Excluindo as features que não apresentam variabilidade\n",
    "df.drop(columns=['T1', 'P1'], inplace=True)\n",
    "features = df.columns\n",
    "df.head()"
   ]
  },
  {
   "cell_type": "code",
   "execution_count": null,
   "metadata": {},
   "outputs": [],
   "source": [
    "type(lim_comp[k]['emerg'])"
   ]
  },
  {
   "cell_type": "markdown",
   "metadata": {},
   "source": [
    "### Criação dos labels das variáveis target"
   ]
  },
  {
   "cell_type": "code",
   "execution_count": null,
   "metadata": {},
   "outputs": [],
   "source": [
    "# status_c é o status do compressor, podendo assumir valores 'Emerg', 'Alert', 'Normal'\n",
    "df['status_c_0'] = pd.cut(df['kMc'], bins=[0, lim_comp[0]['emerg'], lim_comp[0]['alert'], float('Inf')], labels=['Emerg', 'Alert', 'Normal'])\n",
    "# status_t é o status do compressor, podendo assumir valores 'Emerg', 'Alert', 'Normal'\n",
    "df['status_t_0'] = pd.cut(df['kMt'], bins=[0, lim_turb[0]['emerg'], lim_turb[0]['alert'], float('Inf')], labels=['Emerg', 'Alert', 'Normal'])\n",
    "\n",
    "df['status_c_1'] = pd.cut(df['kMc'], bins=[0, lim_comp[1]['emerg'], lim_comp[1]['alert'], float('Inf')], labels=['Emerg', 'Alert', 'Normal'])\n",
    "df['status_t_1'] = pd.cut(df['kMt'], bins=[0, lim_turb[1]['emerg'], lim_turb[1]['alert'], float('Inf')], labels=['Emerg', 'Alert', 'Normal'])\n",
    "\n",
    "df['status_c_2'] = pd.cut(df['kMc'], bins=[0, lim_comp[2]['emerg'], lim_comp[2]['alert'], float('Inf')], labels=['Emerg', 'Alert', 'Normal'])\n",
    "df['status_t_2'] = pd.cut(df['kMt'], bins=[0, lim_turb[2]['emerg'], lim_turb[2]['alert'], float('Inf')], labels=['Emerg', 'Alert', 'Normal'])"
   ]
  },
  {
   "cell_type": "code",
   "execution_count": null,
   "metadata": {},
   "outputs": [],
   "source": [
    "df"
   ]
  },
  {
   "cell_type": "code",
   "execution_count": null,
   "metadata": {},
   "outputs": [],
   "source": [
    "df.groupby('status_c_0').count()['kMc']"
   ]
  },
  {
   "cell_type": "code",
   "execution_count": null,
   "metadata": {
    "scrolled": true
   },
   "outputs": [],
   "source": [
    "df.groupby('status_t_0').count()['kMt']"
   ]
  },
  {
   "cell_type": "code",
   "execution_count": null,
   "metadata": {},
   "outputs": [],
   "source": [
    "df.groupby('status_c_1').count()['kMc']"
   ]
  },
  {
   "cell_type": "code",
   "execution_count": null,
   "metadata": {},
   "outputs": [],
   "source": [
    "df.groupby('status_t_1').count()['kMt']"
   ]
  },
  {
   "cell_type": "code",
   "execution_count": null,
   "metadata": {},
   "outputs": [],
   "source": [
    "df.groupby('status_c_2').count()['kMc']"
   ]
  },
  {
   "cell_type": "code",
   "execution_count": null,
   "metadata": {},
   "outputs": [],
   "source": [
    "df.groupby('status_t_2').count()['kMt']"
   ]
  },
  {
   "cell_type": "markdown",
   "metadata": {},
   "source": [
    "### Constatações:\n",
    "- Cenário 0: Classes balanceadas, não se faz necessária nenhuma técnica de balanceamento do dataset (consequência da escolha arbitrária dos limiares críticos.\n",
    "- Cenário 1: Classes desbalanceadas, pode acarretar viés no modelo devido à maior quantidade de exemplos da classe normal. Não faria sentido, contudo, utilizar alguma técnica de oversampling sobre dados simulados, quando se poderia gerar mais dados simulados para estas condições. Pode caber uma técnica de undersampling.\n",
    "- Cenário 2: Classes desbalanceadas do que no cenário 1, pode acarretar viés no modelo devido à maior quantidade de exemplos da classe normal. Não faria sentido, contudo, utilizar alguma técnica de oversampling sobre dados simulados, quando se poderia gerar mais dados simulados para estas condições. Pode caber uma técnica de undersampling."
   ]
  },
  {
   "cell_type": "markdown",
   "metadata": {},
   "source": [
    "### Exclusão das variáveis kMc e kMt do dataset que será fornecido aos modelos de classificação, uma vez que as mesmas foram discretizadas nas variáveis status_c e status_t."
   ]
  },
  {
   "cell_type": "code",
   "execution_count": null,
   "metadata": {},
   "outputs": [],
   "source": [
    "df2 = df.drop(columns=['kMc', 'kMt'])\n",
    "df2"
   ]
  },
  {
   "cell_type": "markdown",
   "metadata": {},
   "source": [
    "## 4 - Modelagem"
   ]
  },
  {
   "cell_type": "markdown",
   "metadata": {},
   "source": [
    "### Divisão dos datasets de treino e teste para as duas variáveis target  para cada cenário k: status_c_k e status_t_k"
   ]
  },
  {
   "cell_type": "code",
   "execution_count": null,
   "metadata": {},
   "outputs": [],
   "source": [
    "from sklearn.model_selection import train_test_split"
   ]
  },
  {
   "cell_type": "code",
   "execution_count": null,
   "metadata": {},
   "outputs": [],
   "source": [
    "from math import floor"
   ]
  },
  {
   "cell_type": "code",
   "execution_count": null,
   "metadata": {
    "scrolled": true
   },
   "outputs": [],
   "source": [
    "df2.columns"
   ]
  },
  {
   "cell_type": "code",
   "execution_count": null,
   "metadata": {},
   "outputs": [],
   "source": [
    "df2"
   ]
  },
  {
   "cell_type": "code",
   "execution_count": null,
   "metadata": {},
   "outputs": [],
   "source": [
    "X = df2.drop(columns=['status_c_0', 'status_t_0', 'status_c_1', 'status_t_1', 'status_c_2', 'status_t_2'])"
   ]
  },
  {
   "cell_type": "code",
   "execution_count": null,
   "metadata": {},
   "outputs": [],
   "source": [
    "y = [df[col] for col in ['status_c_0', 'status_t_0', 'status_c_1', 'status_t_1', 'status_c_2', 'status_t_2']]"
   ]
  },
  {
   "cell_type": "code",
   "execution_count": null,
   "metadata": {},
   "outputs": [],
   "source": [
    "# Cria uma lista de dados de treino e teste de acordo com a lista de vetores de saída y\n",
    "# Índice 0: X_train, X_test, y_train, y_test para a saída status_c_0, etc.\n",
    "conj_treino_teste = []\n",
    "for saida in y:\n",
    "    X_train, X_test, y_train, y_test = train_test_split(X, saida, test_size=0.3)\n",
    "    conj_treino_teste.append([X_train, X_test, y_train, y_test])"
   ]
  },
  {
   "cell_type": "markdown",
   "metadata": {},
   "source": [
    "## Teste de modelos de classificação"
   ]
  },
  {
   "cell_type": "code",
   "execution_count": null,
   "metadata": {},
   "outputs": [],
   "source": [
    "from sklearn.tree import DecisionTreeClassifier\n",
    "from sklearn.ensemble import RandomForestClassifier\n",
    "from sklearn.neighbors import KNeighborsClassifier\n",
    "from sklearn.naive_bayes import GaussianNB\n",
    "from sklearn.svm import SVC\n",
    "from sklearn.ensemble import AdaBoostClassifier\n",
    "from sklearn.metrics import classification_report"
   ]
  },
  {
   "cell_type": "code",
   "execution_count": null,
   "metadata": {},
   "outputs": [],
   "source": [
    "import warnings\n",
    "warnings.simplefilter(\"ignore\")"
   ]
  },
  {
   "cell_type": "code",
   "execution_count": null,
   "metadata": {},
   "outputs": [],
   "source": [
    "# Para cada saída que se quer prever, cria-se uma instância de um dos modelos de classificação\n",
    "# Ou seja, 6 modelos para 6 saídas, 36 treinamentos distintos\n",
    "modelos = [\n",
    "    {'DecisionTree_comp_0': DecisionTreeClassifier(),\n",
    "    'RandomForest_comp_0': RandomForestClassifier(),\n",
    "    'KNN_comp_0': KNeighborsClassifier(),\n",
    "    'GaussianNB_comp_0': GaussianNB(),\n",
    "    'SVC_comp_0': SVC(),\n",
    "    'AdaBoost_comp_0': AdaBoostClassifier()},\n",
    "    \n",
    "    {'DecisionTree_turb_0': DecisionTreeClassifier(),\n",
    "    'RandomForest_turb_0': RandomForestClassifier(),\n",
    "    'KNN_turb_0': KNeighborsClassifier(),\n",
    "    'GaussianNB_turb_0': GaussianNB(),\n",
    "    'SVC_turb_0': SVC(),\n",
    "    'AdaBoost_turb_0': AdaBoostClassifier()},\n",
    "    \n",
    "    {'DecisionTree_comp_1': DecisionTreeClassifier(),\n",
    "    'RandomForest_comp_1': RandomForestClassifier(),\n",
    "    'KNN_comp_1': KNeighborsClassifier(),\n",
    "    'GaussianNB_comp_1': GaussianNB(),\n",
    "    'SVC_comp_1': SVC(),\n",
    "    'AdaBoost_comp_1': AdaBoostClassifier()},    \n",
    "    \n",
    "    {'DecisionTree_turb_1': DecisionTreeClassifier(),\n",
    "    'RandomForest_turb_1': RandomForestClassifier(),\n",
    "    'KNN_turb_1': KNeighborsClassifier(),\n",
    "    'GaussianNB_turb_1': GaussianNB(),\n",
    "    'SVC_turb_1': SVC(),\n",
    "    'AdaBoost_turb_1': AdaBoostClassifier()},\n",
    "    \n",
    "    {'DecisionTree_comp_2': DecisionTreeClassifier(),\n",
    "    'RandomForest_comp_2': RandomForestClassifier(),\n",
    "    'KNN_comp_2': KNeighborsClassifier(),\n",
    "    'GaussianNB_comp_2': GaussianNB(),\n",
    "    'SVC_comp_2': SVC(),\n",
    "    'AdaBoost_comp_2': AdaBoostClassifier()},\n",
    "    \n",
    "    {'DecisionTree_turb_2': DecisionTreeClassifier(),\n",
    "    'RandomForest_turb_2': RandomForestClassifier(),\n",
    "    'KNN_turb_2': KNeighborsClassifier(),\n",
    "    'GaussianNB_turb_2': GaussianNB(),\n",
    "    'SVC_turb_2': SVC(),\n",
    "    'AdaBoost_turb_2': AdaBoostClassifier()}]"
   ]
  },
  {
   "cell_type": "code",
   "execution_count": null,
   "metadata": {},
   "outputs": [],
   "source": [
    "result = {'Modelo': [], 'Estagio': [], 'Cenario': [], 'Acuracia': [], 'Recall_Emerg': [], 'F1-score_Emerg': []}"
   ]
  },
  {
   "cell_type": "code",
   "execution_count": null,
   "metadata": {
    "scrolled": false
   },
   "outputs": [],
   "source": [
    "%%time\n",
    "i = 0\n",
    "for dic_mod, data in zip(modelos, conj_treino_teste):\n",
    "    for mod in dic_mod:\n",
    "        print('#################################################################')\n",
    "        \n",
    "        result['Modelo'].append(mod)\n",
    "        print(f'Modelo {mod}')\n",
    "               \n",
    "        # São 12 modelos para cada cenário\n",
    "        result['Cenario'].append(floor(i/12))\n",
    "        print(f'Cenário {floor(i/12)}')\n",
    "\n",
    "        # Primeira metade dos modelos do cenário são compressor, outra metade turbina\n",
    "        if(floor(i/6)%2) == 0:\n",
    "            result['Estagio'].append('Compressor')\n",
    "            print('Estágio: Compressor')\n",
    "        else:\n",
    "            result['Estagio'].append('Turbina')\n",
    "            print('Estágio: Turbina')\n",
    "            \n",
    "        i+=1\n",
    "        \n",
    "        # Treinando o modelo\n",
    "        dic_mod[mod].fit(data[0], data[2])\n",
    "        \n",
    "        # Fazendo previsões\n",
    "        Y_pred = dic_mod[mod].predict(data[1])\n",
    "        \n",
    "        # Resultado\n",
    "        report = classification_report(data[3], Y_pred, output_dict=True)\n",
    "        print(report)\n",
    "        \n",
    "        # Gravando resultados do report em um dataframe para comparação posterior\n",
    "        result['Acuracia'].append(report['accuracy'])\n",
    "        result['Recall_Emerg'].append(report['Emerg']['recall'])\n",
    "        result['F1-score_Emerg'].append(report['Emerg']['f1-score'])\n",
    "    \n",
    "resultados = pd.DataFrame.from_dict(result)"
   ]
  },
  {
   "cell_type": "code",
   "execution_count": null,
   "metadata": {
    "scrolled": false
   },
   "outputs": [],
   "source": [
    "# Dataset resultante com os resultados coletados do treinamento dos modelos\n",
    "resultados"
   ]
  },
  {
   "cell_type": "markdown",
   "metadata": {},
   "source": [
    "## 5 - Avaliação dos Resultados (Evaluation)"
   ]
  },
  {
   "cell_type": "markdown",
   "metadata": {},
   "source": [
    "As métricas utilizadas para avaliação do modelo serão a acurácia total a revocação (recall) da classe 'Emerg'. Isto porque a primeira mede o índice geral de acerto do modelo e a segunda mede o quanto o modelo é sensível para detectar o caso mais crítico, que é quando a manutenção tem que ser executada de maneira emergencial. Um balanço entre as duas é desejável, uma vez que de nada adiantaria um recall de 100% com um modelo que atribuísse 100% das saídas ao status 'Emerg' e estivesse errado em todos os demais casos.\n",
    "\n",
    "![recall](img/recall.png)"
   ]
  },
  {
   "cell_type": "markdown",
   "metadata": {},
   "source": [
    "### Cenário 0:"
   ]
  },
  {
   "cell_type": "code",
   "execution_count": null,
   "metadata": {},
   "outputs": [],
   "source": [
    "# Resultados para o compressor\n",
    "resultados[(resultados['Cenario']==0) & (resultados['Estagio']=='Compressor')].sort_values(by='Acuracia', ascending=False)"
   ]
  },
  {
   "cell_type": "code",
   "execution_count": null,
   "metadata": {},
   "outputs": [],
   "source": [
    "# Resultados para a turbina\n",
    "resultados[(resultados['Cenario']==0) & (resultados['Estagio']=='Turbina')].sort_values(by='Acuracia', ascending=False)"
   ]
  },
  {
   "cell_type": "markdown",
   "metadata": {},
   "source": [
    "### Cenário 1:"
   ]
  },
  {
   "cell_type": "code",
   "execution_count": null,
   "metadata": {},
   "outputs": [],
   "source": [
    "# Resultados para o compressor\n",
    "resultados[(resultados['Cenario']==1) & (resultados['Estagio']=='Compressor')].sort_values(by='Acuracia', ascending=False)"
   ]
  },
  {
   "cell_type": "code",
   "execution_count": null,
   "metadata": {},
   "outputs": [],
   "source": [
    "# Resultados para a turbina\n",
    "resultados[(resultados['Cenario']==1) & (resultados['Estagio']=='Turbina')].sort_values(by='Acuracia', ascending=False)"
   ]
  },
  {
   "cell_type": "markdown",
   "metadata": {},
   "source": [
    "### Cenário 2:"
   ]
  },
  {
   "cell_type": "code",
   "execution_count": null,
   "metadata": {},
   "outputs": [],
   "source": [
    "# Resultados para o compressor\n",
    "resultados[(resultados['Cenario']==2) & (resultados['Estagio']=='Compressor')].sort_values(by='Acuracia', ascending=False)"
   ]
  },
  {
   "cell_type": "code",
   "execution_count": null,
   "metadata": {},
   "outputs": [],
   "source": [
    "# Resultados para a turbina\n",
    "resultados[(resultados['Cenario']==2) & (resultados['Estagio']=='Turbina')].sort_values(by='Acuracia', ascending=False)"
   ]
  },
  {
   "cell_type": "code",
   "execution_count": null,
   "metadata": {},
   "outputs": [],
   "source": []
  }
 ],
 "metadata": {
  "kernelspec": {
   "display_name": "Python 3",
   "language": "python",
   "name": "python3"
  },
  "language_info": {
   "codemirror_mode": {
    "name": "ipython",
    "version": 3
   },
   "file_extension": ".py",
   "mimetype": "text/x-python",
   "name": "python",
   "nbconvert_exporter": "python",
   "pygments_lexer": "ipython3",
   "version": "3.8.5"
  }
 },
 "nbformat": 4,
 "nbformat_minor": 4
}
